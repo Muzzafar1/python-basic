{
  "nbformat": 4,
  "nbformat_minor": 0,
  "metadata": {
    "colab": {
      "provenance": []
    },
    "kernelspec": {
      "name": "python3",
      "display_name": "Python 3"
    },
    "language_info": {
      "name": "python"
    }
  },
  "cells": [
    {
      "cell_type": "code",
      "execution_count": null,
      "metadata": {
        "id": "q2fJ3UQp4bjC"
      },
      "outputs": [],
      "source": []
    },
    {
      "cell_type": "markdown",
      "source": [
        "Q1. What is Python, and why is it popular?\n",
        "- Python is a high-level, interpreted programming language known for its readability and simplicity. It’s popular due to its large community, extensive libraries, and versatility across various fields.\n",
        "\n",
        "Q2. What is an interpreter in Python?\n",
        "- An interpreter is a program that reads and executes Python code line-by-line, converting it into machine code at runtime.\n",
        "\n",
        "Q3. What are pre-defined keywords in Python?\n",
        "- Keywords are reserved words in Python that have special meanings, like if, for, while, True, False, etc.\n",
        "\n",
        "Q4. Can keywords be used as variable names?\n",
        "- No, keywords cannot be used as variable names because they are reserved for Python syntax.\n",
        "\n",
        "Q5. What is mutability in Python?\n",
        "- Mutability refers to whether an object’s value can be changed or not after it is created.\n",
        "\n",
        "Q6. Why are lists mutable, but tuples are immutable?\n",
        "- Lists are designed to be modified (e.g., adding/removing items), while tuples are intended for fixed collections of items. Tuples use less memory and can be used as keys in dictionaries.\n",
        "\n",
        "Q7. What is the difference between == and is operators in Python?\n",
        "- \"==\" compares values (content equality), while \"is\" checks whether two variables point to the same object (identity).\n",
        "\n",
        "Q8. What are logical operators in Python?\n",
        "- Logical operators are used to combine conditional statements: and, or, and not.\n",
        "\n",
        "Q9. What is type casting in Python?\n",
        "- Type casting is converting one data type into another, like int(\"string value\") to convert a string to an integer.\n",
        "\n",
        "Q10. What is the difference between implicit and explicit type casting?\n",
        "\n",
        "- Implicit type casting is done Automatically by Python (e.g., int + float becomes float).\n",
        "\n",
        "Explicit type casting is Manually done by a programmer using functions like int(), float(), str().\n",
        "\n",
        "Q11. What is the purpose of conditional statements in Python?\n",
        "Conditional statements like if, elif, and else control the flow of the program based on conditions.\n",
        "\n",
        "Q12. How does the elif statement work?\n",
        "- elif allows checking multiple conditions after an if. It runs the first condition that is True.\n",
        "\n",
        "Q13. What is the difference between for and while loops?\n",
        "\n",
        "- for loop is used when the number of iterations is known, while loop is used when the number of iterations is not known and depends on a condition.\n",
        "\n",
        "Q14. Describe a scenario where a while loop is more suitable than a for loop.\n",
        "- A while loop is better when reading user input until a valid value is entered since you don’t know how many tries it will take.\n"
      ],
      "metadata": {
        "id": "5dlQaeaF4vFG"
      }
    },
    {
      "cell_type": "code",
      "source": [
        "print(\"Hello, World!\")"
      ],
      "metadata": {
        "id": "9wFu5WAf7yXa"
      },
      "execution_count": null,
      "outputs": []
    },
    {
      "cell_type": "code",
      "source": [
        "name = \"Muzzafar Ahmad\"\n",
        "age = 34\n",
        "print(\"Name:\", name)\n",
        "print(\"Age:\", age)"
      ],
      "metadata": {
        "id": "uWZBrDtH73mt"
      },
      "execution_count": null,
      "outputs": []
    },
    {
      "cell_type": "code",
      "source": [
        "import keyword\n",
        "\n",
        "print(\"List of Python keywords:\")\n",
        "print(keyword.kwlist)"
      ],
      "metadata": {
        "id": "JGQHYRtW8nUH"
      },
      "execution_count": null,
      "outputs": []
    },
    {
      "cell_type": "code",
      "source": [
        "import keyword\n",
        "\n",
        "word = input(\"Enter a word: \")\n",
        "if keyword.iskeyword(word):\n",
        "    print(f\"'{word}' is a Python keyword.\")\n",
        "else:\n",
        "    print(f\"'{word}' is not a Python keyword.\")"
      ],
      "metadata": {
        "id": "tR98H--E78kW"
      },
      "execution_count": null,
      "outputs": []
    },
    {
      "cell_type": "code",
      "source": [
        "# List (mutable)\n",
        "my_list = [1, 2, 3]\n",
        "my_list[0] = 10\n",
        "print(\"Modified List:\", my_list)\n",
        "\n",
        "# Tuple (immutable)\n",
        "my_tuple = (1, 2, 3)\n",
        "try:\n",
        "    my_tuple[0] = 10\n",
        "except TypeError as e:\n",
        "    print(\"Error modifying tuple:\", e)"
      ],
      "metadata": {
        "id": "LLkFqVsR8BGr"
      },
      "execution_count": null,
      "outputs": []
    },
    {
      "cell_type": "code",
      "source": [
        "def modify_list(lst):\n",
        "    lst.append(100)\n",
        "    print(\"Inside function (list):\", lst)\n",
        "\n",
        "def modify_int(x):\n",
        "    x += 10\n",
        "    print(\"Inside function (int):\", x)\n",
        "\n",
        "my_list = [1, 2, 3]\n",
        "my_int = 5\n",
        "\n",
        "modify_list(my_list)\n",
        "print(\"Outside function (list):\", my_list)  # Changed (mutable)\n",
        "\n",
        "modify_int(my_int)\n",
        "print(\"Outside function (int):\", my_int)    # Unchanged (immutable)"
      ],
      "metadata": {
        "id": "v-S410k48Eep"
      },
      "execution_count": null,
      "outputs": []
    },
    {
      "cell_type": "code",
      "source": [
        "a = float(input(\"Enter first number: \"))\n",
        "b = float(input(\"Enter second number: \"))\n",
        "\n",
        "print(\"Sum:\", a + b)\n",
        "print(\"Difference:\", a - b)\n",
        "print(\"Product:\", a * b)\n",
        "if b != 0:\n",
        "    print(\"Quotient:\", a / b)\n",
        "else:\n",
        "    print(\"Cannot divide by zero.\")"
      ],
      "metadata": {
        "id": "Fmq9w4CH8M4Z"
      },
      "execution_count": null,
      "outputs": []
    },
    {
      "cell_type": "code",
      "source": [
        "x = True\n",
        "y = False\n",
        "\n",
        "print(\"x and y:\", x and y)\n",
        "print(\"x or y:\", x or y)\n",
        "print(\"not x:\", not x)"
      ],
      "metadata": {
        "id": "_FcG0d_E82rs"
      },
      "execution_count": null,
      "outputs": []
    },
    {
      "cell_type": "code",
      "source": [
        "s = input(\"Enter a number: \")\n",
        "\n",
        "int_value = int(s)\n",
        "float_value = float(s)\n",
        "bool_value = bool(int_value)  # False if 0, True otherwise\n",
        "\n",
        "print(\"Integer:\", int_value)\n",
        "print(\"Float:\", float_value)\n",
        "print(\"Boolean:\", bool_value)"
      ],
      "metadata": {
        "id": "ePW4H8Y99DJI"
      },
      "execution_count": null,
      "outputs": []
    },
    {
      "cell_type": "code",
      "source": [
        "str_list = [\"1\", \"2\", \"3\"]\n",
        "int_list = [int(item) for item in str_list]\n",
        "\n",
        "print(\"String List:\", str_list)\n",
        "print(\"Integer List:\", int_list)"
      ],
      "metadata": {
        "id": "-M5wG-dZ9JGg"
      },
      "execution_count": null,
      "outputs": []
    },
    {
      "cell_type": "code",
      "source": [
        "num = float(input(\"Enter a number: \"))\n",
        "\n",
        "if num > 0:\n",
        "    print(\"The number is positive.\")\n",
        "elif num < 0:\n",
        "    print(\"The number is negative.\")\n",
        "else:\n",
        "    print(\"The number is zero.\")"
      ],
      "metadata": {
        "id": "KtnoPAEd9hVM"
      },
      "execution_count": null,
      "outputs": []
    },
    {
      "cell_type": "code",
      "source": [
        "for i in range(1, 11):\n",
        "    print(i)"
      ],
      "metadata": {
        "id": "kUt6nkxg9ptF"
      },
      "execution_count": null,
      "outputs": []
    },
    {
      "cell_type": "code",
      "source": [
        "total = 0\n",
        "for i in range(2, 51, 2):\n",
        "    total += i\n",
        "\n",
        "print(\"Sum of even numbers from 1 to 50:\", total)"
      ],
      "metadata": {
        "id": "yLBLttyV9vLU"
      },
      "execution_count": null,
      "outputs": []
    },
    {
      "cell_type": "code",
      "source": [
        "s = input(\"Enter a string: \")\n",
        "reversed_s = \"\"\n",
        "i = len(s) - 1\n",
        "\n",
        "while i >= 0:\n",
        "    reversed_s += s[i]\n",
        "    i -= 1\n",
        "\n",
        "print(\"Reversed string:\", reversed_s)"
      ],
      "metadata": {
        "id": "8sYJ-hSm-Hq8"
      },
      "execution_count": null,
      "outputs": []
    },
    {
      "cell_type": "code",
      "source": [
        "num = int(input(\"Enter a number: \"))\n",
        "factorial = 1\n",
        "i = 1\n",
        "\n",
        "while i <= num:\n",
        "    factorial *= i\n",
        "    i += 1\n",
        "\n",
        "print(f\"Factorial of {num} is {factorial}\")"
      ],
      "metadata": {
        "id": "Xn99JNkO9zov"
      },
      "execution_count": null,
      "outputs": []
    }
  ]
}